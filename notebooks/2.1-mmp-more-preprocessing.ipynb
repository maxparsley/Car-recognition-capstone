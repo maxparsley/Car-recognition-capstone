{
 "cells": [
  {
   "cell_type": "markdown",
   "metadata": {},
   "source": [
    "### Some additional data cleaning\n",
    "I realized that my data was incomplete so I set out in this notebook to reconstruct the missing data."
   ]
  },
  {
   "cell_type": "code",
   "execution_count": null,
   "metadata": {},
   "outputs": [],
   "source": [
    "import pandas as pd\n",
    "#read in the csv files and store them in a DataFrame\n",
    "df = pd.read_csv('G:\\\\StanfordCarsDatasetCSV-main\\\\cardatasettrain.csv', index_col = 0)\n",
    "test_df = pd.read_csv('G:\\\\StanfordCarsDatasetCSV-main\\\\cardatasettest.csv', index_col = 0) \n",
    "car_names = pd.read_csv('G:\\\\StanfordCarsDatasetCSV-main\\\\class_names.csv')\n",
    "# Print the DataFrame\n",
    "print(df)\n",
    "print(test_df)"
   ]
  },
  {
   "cell_type": "code",
   "execution_count": null,
   "metadata": {},
   "outputs": [],
   "source": [
    "car_names.head()"
   ]
  },
  {
   "cell_type": "code",
   "execution_count": null,
   "metadata": {},
   "outputs": [],
   "source": [
    "#add the car names to the DataFrame using the class column and the index of the car_names DataFrame\n",
    "df['Car Name'] = df['Class'].apply(lambda x: car_names.loc[x-1, 'class_description'])\n",
    "print(df.head())"
   ]
  },
  {
   "cell_type": "markdown",
   "metadata": {},
   "source": [
    "At this point I thought I might be missing something so I went back to the original data source to double check."
   ]
  },
  {
   "cell_type": "code",
   "execution_count": null,
   "metadata": {},
   "outputs": [],
   "source": [
    "#pulled from the other preprocessing notebook\n",
    "data = scipy.io.loadmat('G:\\\\\\\\capstone files\\\\\\\\data\\\\\\\\archive (1)\\\\\\\\cars_annos.mat')\n",
    "#make dataframes for each column to make it easier to work with\n",
    "relative_im_path = pd.DataFrame(data['annotations']['relative_im_path']).transpose()\n",
    "bbox_x1 = pd.DataFrame(data['annotations']['bbox_x1']).transpose()\n",
    "bbox_x2 = pd.DataFrame(data['annotations']['bbox_x2']).transpose()\n",
    "bbox_y1 = pd.DataFrame(data['annotations']['bbox_y1']).transpose()\n",
    "bbox_y2 = pd.DataFrame(data['annotations']['bbox_y2']).transpose()\n",
    "class_id = pd.DataFrame(data['annotations']['class']).transpose()\n",
    "test = pd.DataFrame(data['annotations']['test']).transpose()\n",
    "#concatenate the dataframes into one\n",
    "annotations = pd.concat([relative_im_path, bbox_x1, bbox_y1, bbox_x2, bbox_y2, class_id, test], axis=1)\n",
    "annotations.columns = ['relative_im_path', 'x1', 'y1', 'x2', 'y2', 'class_id', 'test']\n",
    "\n",
    "#values are in the same order, confirmed through the matlab file using octave\n",
    "#cast all columns to int except for relative_im_path\n",
    "annotations[annotations.columns.difference(['relative_im_path'])] = annotations[annotations.columns.difference(['relative_im_path'])].astype(int)\n",
    "annotations.head()"
   ]
  },
  {
   "cell_type": "code",
   "execution_count": null,
   "metadata": {},
   "outputs": [],
   "source": [
    "#checking for duplicates\n",
    "duplicates = annotations.duplicated(subset=annotations.columns.difference(['relative_im_path']), keep=False)\n",
    "duplicated_rows = annotations[duplicates]\n",
    "print(duplicated_rows)\n"
   ]
  },
  {
   "cell_type": "markdown",
   "metadata": {},
   "source": [
    "one potentially mismatched row will not ruin the whole dataset, the image path is incorrect so I cannot check to see which one is correct."
   ]
  },
  {
   "cell_type": "code",
   "execution_count": null,
   "metadata": {},
   "outputs": [],
   "source": [
    "#find all rows where the x1, y1, x2, and y2 values are the same\n",
    "test_matching_rows = test_df.merge(annotations, on=['x1', 'y1', 'x2', 'y2'])\n",
    "#merge the two DataFrames on the x1, y1, x2, and y2 columns\n",
    "#add the car names to the DataFrame using the class column and the index of the car_names DataFrame\n",
    "test_matching_rows['Car Name'] = test_matching_rows['class_id'].apply(lambda x: car_names.loc[x-1, 'class_description'])\n",
    "\n",
    "test_matching_rows.head()"
   ]
  },
  {
   "cell_type": "markdown",
   "metadata": {},
   "source": [
    "I realized that I did not have complete data for each train and test set. I found a .csv version of the matlab file online but it did not have anything except the bounding box coordinates. So I used the matlab file to reconstruct the rest of the data by matching the bounding box coordinates."
   ]
  },
  {
   "cell_type": "code",
   "execution_count": null,
   "metadata": {},
   "outputs": [],
   "source": [
    "train_matching_rows = df.merge(annotations, on=['x1', 'y1', 'x2', 'y2'])\n",
    "train_matching_rows.head()\n"
   ]
  },
  {
   "cell_type": "markdown",
   "metadata": {},
   "source": [
    "Just checking that I'm not missing values in the training set."
   ]
  },
  {
   "cell_type": "code",
   "execution_count": null,
   "metadata": {},
   "outputs": [],
   "source": [
    "print(train_matching_rows['test'].value_counts())\n",
    "print(test_matching_rows['test'].value_counts())\n"
   ]
  },
  {
   "cell_type": "markdown",
   "metadata": {},
   "source": [
    "Checking to see if I have any misclassified items. I decided to leave them because\n",
    "later on I realized that the resizing function that I made later doesn't work without them."
   ]
  },
  {
   "cell_type": "code",
   "execution_count": null,
   "metadata": {},
   "outputs": [],
   "source": [
    "#dropping redundant columns\n",
    "train_matching_rows.drop(['relative_im_path', 'Class', 'test'], axis=1, inplace=True)\n",
    "test_matching_rows.drop(['relative_im_path', 'test'], axis=1, inplace=True)"
   ]
  },
  {
   "cell_type": "code",
   "execution_count": null,
   "metadata": {},
   "outputs": [],
   "source": [
    "#rename columns\n",
    "train_matching_rows = train_matching_rows[['image', 'x1', 'y1', 'x2', 'y2', 'Car Name', 'class_id']]\n",
    "test_matching_rows = test_matching_rows[['image', 'x1', 'y1', 'x2', 'y2', 'Car Name', 'class_id']]\n",
    "print(train_matching_rows.head())\n",
    "print(test_matching_rows.head())"
   ]
  },
  {
   "cell_type": "code",
   "execution_count": null,
   "metadata": {},
   "outputs": [],
   "source": [
    "from PIL import Image\n",
    "import glob\n",
    "# FILEPATH: Untitled-1.ipynb\n",
    "train_image_paths = glob.glob('G:/capstone files/data/archive (1)/cars_train/cars_train/*.jpg')\n",
    "test_image_paths = glob.glob('G:/capstone files/data/archive (1)/cars_test/cars_test/*.jpg')\n",
    "\n",
    "# Get image size for train images\n",
    "train_image_sizes = []\n",
    "for image_path in train_image_paths:\n",
    "    image = Image.open(image_path)\n",
    "    width, height = image.size\n",
    "    wsf = 224 / width\n",
    "    hsf = 224 / height\n",
    "    train_matching_rows.loc[train_matching_rows['image'] == image_path.split('\\\\')[-1], ['x1', 'x2']] *= wsf\n",
    "    train_matching_rows.loc[train_matching_rows['image'] == image_path.split('\\\\')[-1], ['y1', 'y2']] *= hsf\n",
    "\n",
    "# Get image size for test images\n",
    "test_image_sizes = []\n",
    "for image_path in test_image_paths:\n",
    "    image = Image.open(image_path)\n",
    "    width, height = image.size\n",
    "    wsf = 224 / width\n",
    "    hsf = 224 / height\n",
    "    test_matching_rows.loc[test_matching_rows['image'] == image_path.split('\\\\')[-1], ['x1', 'x2']] *= wsf\n",
    "    test_matching_rows.loc[test_matching_rows['image'] == image_path.split('\\\\')[-1], ['y1', 'y2']] *= hsf\n",
    "\n",
    "\n",
    "\n"
   ]
  },
  {
   "cell_type": "markdown",
   "metadata": {},
   "source": [
    "This code gets the sizes of the images, and then uses that to rescale the bounding boxes so that they fit on the resized images."
   ]
  },
  {
   "cell_type": "code",
   "execution_count": null,
   "metadata": {},
   "outputs": [],
   "source": [
    "import gc\n",
    "gc.collect()\n",
    "# this is here to reduce RAM usage"
   ]
  },
  {
   "cell_type": "code",
   "execution_count": null,
   "metadata": {},
   "outputs": [],
   "source": [
    "import matplotlib.pyplot as plt\n",
    "import matplotlib.patches as patches\n",
    "\n",
    "# Set the directory path\n",
    "directory = 'G:/capstone files/data/cars train resized'\n",
    "\n",
    "# Get the file names in the directory\n",
    "file_names = os.listdir(directory)\n",
    "\n",
    "# Show the first 5 images\n",
    "for i in range(5):\n",
    "    image_path = os.path.join(directory, file_names[i])\n",
    "    image = plt.imread(image_path)\n",
    "    \n",
    "    # Create a figure and axes\n",
    "    fig, ax = plt.subplots()\n",
    "    \n",
    "    # Display the image\n",
    "    ax.imshow(image)\n",
    "    \n",
    "    # Get the bounding box coordinates\n",
    "    x1 = train_matching_rows.loc[i, 'x1']\n",
    "    y1 = train_matching_rows.loc[i, 'y1']\n",
    "    x2 = train_matching_rows.loc[i, 'x2']\n",
    "    y2 = train_matching_rows.loc[i, 'y2']\n",
    "    \n",
    "    # Create a rectangle patch\n",
    "    rect = patches.Rectangle((x1, y1), x2 - x1, y2 - y1, linewidth=1, edgecolor='r', facecolor='none')\n",
    "    \n",
    "    # Add the rectangle to the plot\n",
    "    ax.add_patch(rect)\n",
    "    \n",
    "    # Turn off the axis labels\n",
    "    ax.axis('off')\n",
    "    \n",
    "    # Show the plot\n",
    "    plt.show()\n"
   ]
  },
  {
   "cell_type": "code",
   "execution_count": null,
   "metadata": {},
   "outputs": [],
   "source": [
    "import matplotlib.pyplot as plt\n",
    "import matplotlib.patches as patches\n",
    "\n",
    "# Set the directory path\n",
    "directory = 'G:/capstone files/data/cars test resized'\n",
    "\n",
    "# Get the file names in the directory\n",
    "file_names = os.listdir(directory)\n",
    "\n",
    "# Show the first 5 images\n",
    "for i in range(5):\n",
    "    image_path = os.path.join(directory, file_names[i])\n",
    "    image = plt.imread(image_path)\n",
    "    \n",
    "    # Create a figure and axes\n",
    "    fig, ax = plt.subplots()\n",
    "    \n",
    "    # Display the image\n",
    "    ax.imshow(image)\n",
    "    \n",
    "    # Get the bounding box coordinates\n",
    "    x1 = test_matching_rows.loc[i, 'x1']\n",
    "    y1 = test_matching_rows.loc[i, 'y1']\n",
    "    x2 = test_matching_rows.loc[i, 'x2']\n",
    "    y2 = test_matching_rows.loc[i, 'y2']\n",
    "    \n",
    "    # Create a rectangle patch\n",
    "    rect = patches.Rectangle((x1, y1), x2 - x1, y2 - y1, linewidth=1, edgecolor='r', facecolor='none')\n",
    "    \n",
    "    # Add the rectangle to the plot\n",
    "    ax.add_patch(rect)\n",
    "    \n",
    "    # Turn off the axis labels\n",
    "    ax.axis('off')\n",
    "    \n",
    "    # Show the plot\n",
    "    plt.show()"
   ]
  },
  {
   "cell_type": "markdown",
   "metadata": {},
   "source": [
    "This code just checks to see if the boxes fit."
   ]
  },
  {
   "cell_type": "code",
   "execution_count": null,
   "metadata": {},
   "outputs": [],
   "source": [
    "train_matching_rows.to_csv('G:\\capstone files\\data\\\\train_final.csv', index=False)\n",
    "test_matching_rows.to_csv('G:\\capstone files\\data\\\\test_final.csv', index=False)\n"
   ]
  }
 ],
 "metadata": {
  "kernelspec": {
   "display_name": "Python 3",
   "language": "python",
   "name": "python3"
  },
  "language_info": {
   "codemirror_mode": {
    "name": "ipython",
    "version": 3
   },
   "file_extension": ".py",
   "mimetype": "text/x-python",
   "name": "python",
   "nbconvert_exporter": "python",
   "pygments_lexer": "ipython3",
   "version": "3.11.5"
  }
 },
 "nbformat": 4,
 "nbformat_minor": 2
}

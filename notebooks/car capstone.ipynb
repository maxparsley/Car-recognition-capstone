{
 "cells": [
  {
   "cell_type": "code",
   "execution_count": 100,
   "metadata": {},
   "outputs": [],
   "source": [
    "import tensorflow as tf\n",
    "from tensorflow import keras\n",
    "import pandas as pd\n",
    "import scipy.io\n",
    "import numpy as np\n",
    "import glob\n",
    "from tensorflow.keras.layers import Conv2D, MaxPooling2D, Flatten, Dense\n",
    "from tensorflow.keras.models import Sequential\n",
    "import os\n",
    "from PIL import Image\n",
    "import gc"
   ]
  },
  {
   "cell_type": "code",
   "execution_count": 75,
   "metadata": {},
   "outputs": [],
   "source": [
    "data = scipy.io.loadmat('G:\\\\\\\\capstone files\\\\\\\\data\\\\\\\\archive (1)\\\\\\\\cars_annos.mat')\n"
   ]
  },
  {
   "cell_type": "code",
   "execution_count": 76,
   "metadata": {},
   "outputs": [
    {
     "data": {
      "text/plain": [
       "dict_keys(['__header__', '__version__', '__globals__', 'annotations', 'class_names'])"
      ]
     },
     "execution_count": 76,
     "metadata": {},
     "output_type": "execute_result"
    }
   ],
   "source": [
    "data.keys()\n",
    "\n"
   ]
  },
  {
   "cell_type": "code",
   "execution_count": 77,
   "metadata": {},
   "outputs": [
    {
     "data": {
      "text/html": [
       "<div>\n",
       "<style scoped>\n",
       "    .dataframe tbody tr th:only-of-type {\n",
       "        vertical-align: middle;\n",
       "    }\n",
       "\n",
       "    .dataframe tbody tr th {\n",
       "        vertical-align: top;\n",
       "    }\n",
       "\n",
       "    .dataframe thead th {\n",
       "        text-align: right;\n",
       "    }\n",
       "</style>\n",
       "<table border=\"1\" class=\"dataframe\">\n",
       "  <thead>\n",
       "    <tr style=\"text-align: right;\">\n",
       "      <th></th>\n",
       "      <th>0</th>\n",
       "      <th>1</th>\n",
       "      <th>2</th>\n",
       "      <th>3</th>\n",
       "      <th>4</th>\n",
       "      <th>5</th>\n",
       "      <th>6</th>\n",
       "      <th>7</th>\n",
       "      <th>8</th>\n",
       "      <th>9</th>\n",
       "      <th>...</th>\n",
       "      <th>186</th>\n",
       "      <th>187</th>\n",
       "      <th>188</th>\n",
       "      <th>189</th>\n",
       "      <th>190</th>\n",
       "      <th>191</th>\n",
       "      <th>192</th>\n",
       "      <th>193</th>\n",
       "      <th>194</th>\n",
       "      <th>195</th>\n",
       "    </tr>\n",
       "  </thead>\n",
       "  <tbody>\n",
       "    <tr>\n",
       "      <th>0</th>\n",
       "      <td>[AM General Hummer SUV 2000]</td>\n",
       "      <td>[Acura RL Sedan 2012]</td>\n",
       "      <td>[Acura TL Sedan 2012]</td>\n",
       "      <td>[Acura TL Type-S 2008]</td>\n",
       "      <td>[Acura TSX Sedan 2012]</td>\n",
       "      <td>[Acura Integra Type R 2001]</td>\n",
       "      <td>[Acura ZDX Hatchback 2012]</td>\n",
       "      <td>[Aston Martin V8 Vantage Convertible 2012]</td>\n",
       "      <td>[Aston Martin V8 Vantage Coupe 2012]</td>\n",
       "      <td>[Aston Martin Virage Convertible 2012]</td>\n",
       "      <td>...</td>\n",
       "      <td>[Toyota Camry Sedan 2012]</td>\n",
       "      <td>[Toyota Corolla Sedan 2012]</td>\n",
       "      <td>[Toyota 4Runner SUV 2012]</td>\n",
       "      <td>[Volkswagen Golf Hatchback 2012]</td>\n",
       "      <td>[Volkswagen Golf Hatchback 1991]</td>\n",
       "      <td>[Volkswagen Beetle Hatchback 2012]</td>\n",
       "      <td>[Volvo C30 Hatchback 2012]</td>\n",
       "      <td>[Volvo 240 Sedan 1993]</td>\n",
       "      <td>[Volvo XC90 SUV 2007]</td>\n",
       "      <td>[smart fortwo Convertible 2012]</td>\n",
       "    </tr>\n",
       "  </tbody>\n",
       "</table>\n",
       "<p>1 rows × 196 columns</p>\n",
       "</div>"
      ],
      "text/plain": [
       "                            0                      1                      2    \\\n",
       "0  [AM General Hummer SUV 2000]  [Acura RL Sedan 2012]  [Acura TL Sedan 2012]   \n",
       "\n",
       "                      3                       4    \\\n",
       "0  [Acura TL Type-S 2008]  [Acura TSX Sedan 2012]   \n",
       "\n",
       "                           5                           6    \\\n",
       "0  [Acura Integra Type R 2001]  [Acura ZDX Hatchback 2012]   \n",
       "\n",
       "                                          7    \\\n",
       "0  [Aston Martin V8 Vantage Convertible 2012]   \n",
       "\n",
       "                                    8    \\\n",
       "0  [Aston Martin V8 Vantage Coupe 2012]   \n",
       "\n",
       "                                      9    ...                        186  \\\n",
       "0  [Aston Martin Virage Convertible 2012]  ...  [Toyota Camry Sedan 2012]   \n",
       "\n",
       "                           187                        188  \\\n",
       "0  [Toyota Corolla Sedan 2012]  [Toyota 4Runner SUV 2012]   \n",
       "\n",
       "                                189                               190  \\\n",
       "0  [Volkswagen Golf Hatchback 2012]  [Volkswagen Golf Hatchback 1991]   \n",
       "\n",
       "                                  191                         192  \\\n",
       "0  [Volkswagen Beetle Hatchback 2012]  [Volvo C30 Hatchback 2012]   \n",
       "\n",
       "                      193                    194  \\\n",
       "0  [Volvo 240 Sedan 1993]  [Volvo XC90 SUV 2007]   \n",
       "\n",
       "                               195  \n",
       "0  [smart fortwo Convertible 2012]  \n",
       "\n",
       "[1 rows x 196 columns]"
      ]
     },
     "execution_count": 77,
     "metadata": {},
     "output_type": "execute_result"
    }
   ],
   "source": [
    "class_names = pd.DataFrame(data['class_names'])\n",
    "class_names.head()\n"
   ]
  },
  {
   "cell_type": "code",
   "execution_count": 78,
   "metadata": {},
   "outputs": [
    {
     "data": {
      "text/plain": [
       "array([[(array(['car_ims/000001.jpg'], dtype='<U18'), array([[112]], dtype=uint8), array([[7]], dtype=uint8), array([[853]], dtype=uint16), array([[717]], dtype=uint16), array([[1]], dtype=uint8), array([[0]], dtype=uint8)),\n",
       "        (array(['car_ims/000002.jpg'], dtype='<U18'), array([[48]], dtype=uint8), array([[24]], dtype=uint8), array([[441]], dtype=uint16), array([[202]], dtype=uint8), array([[1]], dtype=uint8), array([[0]], dtype=uint8)),\n",
       "        (array(['car_ims/000003.jpg'], dtype='<U18'), array([[7]], dtype=uint8), array([[4]], dtype=uint8), array([[277]], dtype=uint16), array([[180]], dtype=uint8), array([[1]], dtype=uint8), array([[0]], dtype=uint8)),\n",
       "        ...,\n",
       "        (array(['car_ims/016183.jpg'], dtype='<U18'), array([[25]], dtype=uint8), array([[32]], dtype=uint8), array([[587]], dtype=uint16), array([[359]], dtype=uint16), array([[196]], dtype=uint8), array([[1]], dtype=uint8)),\n",
       "        (array(['car_ims/016184.jpg'], dtype='<U18'), array([[56]], dtype=uint8), array([[60]], dtype=uint8), array([[208]], dtype=uint8), array([[186]], dtype=uint8), array([[196]], dtype=uint8), array([[1]], dtype=uint8)),\n",
       "        (array(['car_ims/016185.jpg'], dtype='<U18'), array([[1]], dtype=uint8), array([[1]], dtype=uint8), array([[200]], dtype=uint8), array([[131]], dtype=uint8), array([[196]], dtype=uint8), array([[1]], dtype=uint8))]],\n",
       "      dtype=[('relative_im_path', 'O'), ('bbox_x1', 'O'), ('bbox_y1', 'O'), ('bbox_x2', 'O'), ('bbox_y2', 'O'), ('class', 'O'), ('test', 'O')])"
      ]
     },
     "execution_count": 78,
     "metadata": {},
     "output_type": "execute_result"
    }
   ],
   "source": [
    "data['annotations']\n",
    "\n"
   ]
  },
  {
   "cell_type": "code",
   "execution_count": 143,
   "metadata": {},
   "outputs": [],
   "source": [
    "relative_im_path = pd.DataFrame(data['annotations']['relative_im_path']).transpose()\n",
    "bbox_x1 = pd.DataFrame(data['annotations']['bbox_x1']).transpose()\n",
    "bbox_x2 = pd.DataFrame(data['annotations']['bbox_x2']).transpose()\n",
    "bbox_y1 = pd.DataFrame(data['annotations']['bbox_y1']).transpose()\n",
    "bbox_y2 = pd.DataFrame(data['annotations']['bbox_y2']).transpose()\n",
    "class_id = pd.DataFrame(data['annotations']['class']).transpose()\n",
    "test = pd.DataFrame(data['annotations']['test']).transpose()\n"
   ]
  },
  {
   "cell_type": "code",
   "execution_count": 144,
   "metadata": {},
   "outputs": [
    {
     "data": {
      "text/html": [
       "<div>\n",
       "<style scoped>\n",
       "    .dataframe tbody tr th:only-of-type {\n",
       "        vertical-align: middle;\n",
       "    }\n",
       "\n",
       "    .dataframe tbody tr th {\n",
       "        vertical-align: top;\n",
       "    }\n",
       "\n",
       "    .dataframe thead th {\n",
       "        text-align: right;\n",
       "    }\n",
       "</style>\n",
       "<table border=\"1\" class=\"dataframe\">\n",
       "  <thead>\n",
       "    <tr style=\"text-align: right;\">\n",
       "      <th></th>\n",
       "      <th>relative_im_path</th>\n",
       "      <th>bbox_x1</th>\n",
       "      <th>bbox_y1</th>\n",
       "      <th>bbox_x2</th>\n",
       "      <th>bbox_y2</th>\n",
       "      <th>class_id</th>\n",
       "      <th>test</th>\n",
       "    </tr>\n",
       "  </thead>\n",
       "  <tbody>\n",
       "    <tr>\n",
       "      <th>0</th>\n",
       "      <td>[car_ims/000001.jpg]</td>\n",
       "      <td>[[112]]</td>\n",
       "      <td>[[7]]</td>\n",
       "      <td>[[853]]</td>\n",
       "      <td>[[717]]</td>\n",
       "      <td>[[1]]</td>\n",
       "      <td>[[0]]</td>\n",
       "    </tr>\n",
       "    <tr>\n",
       "      <th>1</th>\n",
       "      <td>[car_ims/000002.jpg]</td>\n",
       "      <td>[[48]]</td>\n",
       "      <td>[[24]]</td>\n",
       "      <td>[[441]]</td>\n",
       "      <td>[[202]]</td>\n",
       "      <td>[[1]]</td>\n",
       "      <td>[[0]]</td>\n",
       "    </tr>\n",
       "    <tr>\n",
       "      <th>2</th>\n",
       "      <td>[car_ims/000003.jpg]</td>\n",
       "      <td>[[7]]</td>\n",
       "      <td>[[4]]</td>\n",
       "      <td>[[277]]</td>\n",
       "      <td>[[180]]</td>\n",
       "      <td>[[1]]</td>\n",
       "      <td>[[0]]</td>\n",
       "    </tr>\n",
       "    <tr>\n",
       "      <th>3</th>\n",
       "      <td>[car_ims/000004.jpg]</td>\n",
       "      <td>[[33]]</td>\n",
       "      <td>[[50]]</td>\n",
       "      <td>[[197]]</td>\n",
       "      <td>[[150]]</td>\n",
       "      <td>[[1]]</td>\n",
       "      <td>[[0]]</td>\n",
       "    </tr>\n",
       "    <tr>\n",
       "      <th>4</th>\n",
       "      <td>[car_ims/000005.jpg]</td>\n",
       "      <td>[[5]]</td>\n",
       "      <td>[[8]]</td>\n",
       "      <td>[[83]]</td>\n",
       "      <td>[[58]]</td>\n",
       "      <td>[[1]]</td>\n",
       "      <td>[[0]]</td>\n",
       "    </tr>\n",
       "  </tbody>\n",
       "</table>\n",
       "</div>"
      ],
      "text/plain": [
       "       relative_im_path  bbox_x1 bbox_y1  bbox_x2  bbox_y2 class_id   test\n",
       "0  [car_ims/000001.jpg]  [[112]]   [[7]]  [[853]]  [[717]]    [[1]]  [[0]]\n",
       "1  [car_ims/000002.jpg]   [[48]]  [[24]]  [[441]]  [[202]]    [[1]]  [[0]]\n",
       "2  [car_ims/000003.jpg]    [[7]]   [[4]]  [[277]]  [[180]]    [[1]]  [[0]]\n",
       "3  [car_ims/000004.jpg]   [[33]]  [[50]]  [[197]]  [[150]]    [[1]]  [[0]]\n",
       "4  [car_ims/000005.jpg]    [[5]]   [[8]]   [[83]]   [[58]]    [[1]]  [[0]]"
      ]
     },
     "execution_count": 144,
     "metadata": {},
     "output_type": "execute_result"
    }
   ],
   "source": [
    "annotations = pd.concat([relative_im_path, bbox_x1, bbox_y1, bbox_x2, bbox_y2, class_id, test], axis=1)\n",
    "annotations.columns = ['relative_im_path', 'bbox_x1', 'bbox_y1', 'bbox_x2', 'bbox_y2', 'class_id', 'test']\n",
    "annotations.head()\n",
    "#values are in the same order, confirmed through the matlab file using octave"
   ]
  },
  {
   "cell_type": "code",
   "execution_count": 81,
   "metadata": {},
   "outputs": [
    {
     "name": "stdout",
     "output_type": "stream",
     "text": [
      "<class 'pandas.core.frame.DataFrame'>\n",
      "RangeIndex: 16185 entries, 0 to 16184\n",
      "Data columns (total 6 columns):\n",
      " #   Column            Non-Null Count  Dtype \n",
      "---  ------            --------------  ----- \n",
      " 0   relative_im_path  16185 non-null  object\n",
      " 1   bbox_x1           16185 non-null  object\n",
      " 2   bbox_y1           16185 non-null  object\n",
      " 3   bbox_x2           16185 non-null  object\n",
      " 4   bbox_y2           16185 non-null  object\n",
      " 5   class_id          16185 non-null  object\n",
      "dtypes: object(6)\n",
      "memory usage: 758.8+ KB\n"
     ]
    }
   ],
   "source": [
    "annotations.info()"
   ]
  },
  {
   "cell_type": "code",
   "execution_count": 82,
   "metadata": {},
   "outputs": [],
   "source": [
    "annotations[annotations.columns.difference(['relative_im_path'])] = annotations[annotations.columns.difference(['relative_im_path'])].astype(int)\n",
    "\n"
   ]
  },
  {
   "cell_type": "code",
   "execution_count": 108,
   "metadata": {},
   "outputs": [
    {
     "data": {
      "text/html": [
       "<div>\n",
       "<style scoped>\n",
       "    .dataframe tbody tr th:only-of-type {\n",
       "        vertical-align: middle;\n",
       "    }\n",
       "\n",
       "    .dataframe tbody tr th {\n",
       "        vertical-align: top;\n",
       "    }\n",
       "\n",
       "    .dataframe thead th {\n",
       "        text-align: right;\n",
       "    }\n",
       "</style>\n",
       "<table border=\"1\" class=\"dataframe\">\n",
       "  <thead>\n",
       "    <tr style=\"text-align: right;\">\n",
       "      <th></th>\n",
       "      <th>relative_im_path</th>\n",
       "      <th>bbox_x1</th>\n",
       "      <th>bbox_y1</th>\n",
       "      <th>bbox_x2</th>\n",
       "      <th>bbox_y2</th>\n",
       "      <th>class_id</th>\n",
       "    </tr>\n",
       "  </thead>\n",
       "  <tbody>\n",
       "    <tr>\n",
       "      <th>0</th>\n",
       "      <td>[car_ims/000001.jpg]</td>\n",
       "      <td>112</td>\n",
       "      <td>7</td>\n",
       "      <td>853</td>\n",
       "      <td>717</td>\n",
       "      <td>1</td>\n",
       "    </tr>\n",
       "    <tr>\n",
       "      <th>1</th>\n",
       "      <td>[car_ims/000002.jpg]</td>\n",
       "      <td>48</td>\n",
       "      <td>24</td>\n",
       "      <td>441</td>\n",
       "      <td>202</td>\n",
       "      <td>1</td>\n",
       "    </tr>\n",
       "    <tr>\n",
       "      <th>2</th>\n",
       "      <td>[car_ims/000003.jpg]</td>\n",
       "      <td>7</td>\n",
       "      <td>4</td>\n",
       "      <td>277</td>\n",
       "      <td>180</td>\n",
       "      <td>1</td>\n",
       "    </tr>\n",
       "    <tr>\n",
       "      <th>3</th>\n",
       "      <td>[car_ims/000004.jpg]</td>\n",
       "      <td>33</td>\n",
       "      <td>50</td>\n",
       "      <td>197</td>\n",
       "      <td>150</td>\n",
       "      <td>1</td>\n",
       "    </tr>\n",
       "    <tr>\n",
       "      <th>4</th>\n",
       "      <td>[car_ims/000005.jpg]</td>\n",
       "      <td>5</td>\n",
       "      <td>8</td>\n",
       "      <td>83</td>\n",
       "      <td>58</td>\n",
       "      <td>1</td>\n",
       "    </tr>\n",
       "    <tr>\n",
       "      <th>...</th>\n",
       "      <td>...</td>\n",
       "      <td>...</td>\n",
       "      <td>...</td>\n",
       "      <td>...</td>\n",
       "      <td>...</td>\n",
       "      <td>...</td>\n",
       "    </tr>\n",
       "    <tr>\n",
       "      <th>16180</th>\n",
       "      <td>[car_ims/016181.jpg]</td>\n",
       "      <td>38</td>\n",
       "      <td>36</td>\n",
       "      <td>375</td>\n",
       "      <td>234</td>\n",
       "      <td>196</td>\n",
       "    </tr>\n",
       "    <tr>\n",
       "      <th>16181</th>\n",
       "      <td>[car_ims/016182.jpg]</td>\n",
       "      <td>29</td>\n",
       "      <td>34</td>\n",
       "      <td>235</td>\n",
       "      <td>164</td>\n",
       "      <td>196</td>\n",
       "    </tr>\n",
       "    <tr>\n",
       "      <th>16182</th>\n",
       "      <td>[car_ims/016183.jpg]</td>\n",
       "      <td>25</td>\n",
       "      <td>32</td>\n",
       "      <td>587</td>\n",
       "      <td>359</td>\n",
       "      <td>196</td>\n",
       "    </tr>\n",
       "    <tr>\n",
       "      <th>16183</th>\n",
       "      <td>[car_ims/016184.jpg]</td>\n",
       "      <td>56</td>\n",
       "      <td>60</td>\n",
       "      <td>208</td>\n",
       "      <td>186</td>\n",
       "      <td>196</td>\n",
       "    </tr>\n",
       "    <tr>\n",
       "      <th>16184</th>\n",
       "      <td>[car_ims/016185.jpg]</td>\n",
       "      <td>1</td>\n",
       "      <td>1</td>\n",
       "      <td>200</td>\n",
       "      <td>131</td>\n",
       "      <td>196</td>\n",
       "    </tr>\n",
       "  </tbody>\n",
       "</table>\n",
       "<p>16185 rows × 6 columns</p>\n",
       "</div>"
      ],
      "text/plain": [
       "           relative_im_path  bbox_x1  bbox_y1  bbox_x2  bbox_y2  class_id\n",
       "0      [car_ims/000001.jpg]      112        7      853      717         1\n",
       "1      [car_ims/000002.jpg]       48       24      441      202         1\n",
       "2      [car_ims/000003.jpg]        7        4      277      180         1\n",
       "3      [car_ims/000004.jpg]       33       50      197      150         1\n",
       "4      [car_ims/000005.jpg]        5        8       83       58         1\n",
       "...                     ...      ...      ...      ...      ...       ...\n",
       "16180  [car_ims/016181.jpg]       38       36      375      234       196\n",
       "16181  [car_ims/016182.jpg]       29       34      235      164       196\n",
       "16182  [car_ims/016183.jpg]       25       32      587      359       196\n",
       "16183  [car_ims/016184.jpg]       56       60      208      186       196\n",
       "16184  [car_ims/016185.jpg]        1        1      200      131       196\n",
       "\n",
       "[16185 rows x 6 columns]"
      ]
     },
     "execution_count": 108,
     "metadata": {},
     "output_type": "execute_result"
    }
   ],
   "source": [
    "annotations"
   ]
  },
  {
   "cell_type": "code",
   "execution_count": 84,
   "metadata": {},
   "outputs": [
    {
     "data": {
      "text/plain": [
       "<AxesSubplot: >"
      ]
     },
     "execution_count": 84,
     "metadata": {},
     "output_type": "execute_result"
    },
    {
     "data": {
      "image/png": "[encoded data removed]",
      "text/plain": [
       "<Figure size 640x480 with 1 Axes>"
      ]
     },
     "metadata": {},
     "output_type": "display_data"
    }
   ],
   "source": [
    "annotations['class_id'].value_counts().plot(kind='bar')\n",
    "#I know this is not the best way to visualize this data, but I am just trying to get a feel for the data"
   ]
  },
  {
   "cell_type": "code",
   "execution_count": 98,
   "metadata": {},
   "outputs": [],
   "source": [
    "\n",
    "\n",
    "\n",
    "\n",
    "\n",
    "#get all the images from the folders"
   ]
  },
  {
   "cell_type": "code",
   "execution_count": 148,
   "metadata": {},
   "outputs": [
    {
     "data": {
      "text/plain": [
       "3382"
      ]
     },
     "execution_count": 148,
     "metadata": {},
     "output_type": "execute_result"
    }
   ],
   "source": [
    "\n",
    "gc.collect()\n"
   ]
  },
  {
   "cell_type": "code",
   "execution_count": 149,
   "metadata": {},
   "outputs": [],
   "source": [
    "\n",
    "train_image_paths = glob.glob('G:/capstone files/data/archive (1)/cars_train/cars_train/*.jpg')\n",
    "\n",
    "test_image_paths = glob.glob('G:/capstone files/data/archive (1)/cars_test/cars_test/*.jpg')\n",
    "\n",
    "#resize all the images to 224x224 and store in local memory to save ram\n",
    "def save_resized_images(image_paths, output_dir, size=(224, 224)):\n",
    "    for image_paths in image_paths:\n",
    "        with Image.open(image_paths) as img:\n",
    "            resized_img = img.resize(size)\n",
    "            output_path = os.path.join(output_dir, os.path.basename(image_paths))\n",
    "            resized_img.save(output_path)\n",
    "#set the output directories for the resized images\n",
    "train_output_dir = \"G:/capstone files/data/cars train resized\"\n",
    "test_output_dir = \"G:/capstone files/data/cars test resized\"\n",
    "#make the directories if they don't exist\n",
    "if not os.path.exists(train_output_dir):\n",
    "    os.makedirs(train_output_dir)\n",
    "if not os.path.exists(test_output_dir):\n",
    "    os.makedirs(test_output_dir)\n",
    "\n",
    "save_resized_images(train_image_paths, train_output_dir)\n",
    "save_resized_images(test_image_paths, test_output_dir)\n",
    "#resize all the images to 224x224 and store in local memory to save ram\n"
   ]
  },
  {
   "cell_type": "code",
   "execution_count": 151,
   "metadata": {},
   "outputs": [],
   "source": [
    "resized_train_image_path = glob.glob(train_output_dir + '/*.jpg')\n",
    "resized_test_image_path = glob.glob(test_output_dir + '/*.jpg')\n"
   ]
  },
  {
   "cell_type": "code",
   "execution_count": 152,
   "metadata": {},
   "outputs": [],
   "source": [
    "\n",
    "\n",
    "def preprocess_image(image_path):\n",
    "    image = tf.io.read_file(image_path)\n",
    "    image = tf.image.decode_jpeg(image)\n",
    "    image = tf.image.convert_image_dtype(image, tf.float32)\n",
    "    return image\n",
    "\n",
    "train_images = tf.data.Dataset.from_tensor_slices(resized_train_image_path)\n",
    "train_images = train_images.map(preprocess_image, num_parallel_calls=tf.data.experimental.AUTOTUNE)\n",
    "test_images = tf.data.Dataset.from_tensor_slices(resized_test_image_path)\n",
    "test_images = test_images.map(preprocess_image, num_parallel_calls=tf.data.experimental.AUTOTUNE)\n"
   ]
  },
  {
   "cell_type": "code",
   "execution_count": 153,
   "metadata": {},
   "outputs": [
    {
     "name": "stdout",
     "output_type": "stream",
     "text": [
      "(224, 224, 3)\n"
     ]
    }
   ],
   "source": [
    "# Load the first image in the training set\n",
    "first_image = list(train_images.take(1))[0]\n",
    "\n",
    "first_image_shape = first_image.shape\n",
    "print(first_image_shape)\n"
   ]
  },
  {
   "cell_type": "code",
   "execution_count": 154,
   "metadata": {},
   "outputs": [
    {
     "name": "stdout",
     "output_type": "stream",
     "text": [
      "<class 'pandas.core.frame.DataFrame'>\n",
      "Int64Index: 8144 entries, 0 to 16144\n",
      "Data columns (total 7 columns):\n",
      " #   Column            Non-Null Count  Dtype \n",
      "---  ------            --------------  ----- \n",
      " 0   relative_im_path  8144 non-null   object\n",
      " 1   bbox_x1           8144 non-null   object\n",
      " 2   bbox_y1           8144 non-null   object\n",
      " 3   bbox_x2           8144 non-null   object\n",
      " 4   bbox_y2           8144 non-null   object\n",
      " 5   class_id          8144 non-null   object\n",
      " 6   test              8144 non-null   object\n",
      "dtypes: object(7)\n",
      "memory usage: 509.0+ KB\n"
     ]
    }
   ],
   "source": [
    "\n",
    "train_annotations = annotations.drop(annotations[annotations['test'] == 1].index)\n",
    "train_annotations.info()\n"
   ]
  },
  {
   "cell_type": "code",
   "execution_count": 155,
   "metadata": {},
   "outputs": [
    {
     "name": "stdout",
     "output_type": "stream",
     "text": [
      "<class 'pandas.core.frame.DataFrame'>\n",
      "Int64Index: 8041 entries, 45 to 16184\n",
      "Data columns (total 7 columns):\n",
      " #   Column            Non-Null Count  Dtype \n",
      "---  ------            --------------  ----- \n",
      " 0   relative_im_path  8041 non-null   object\n",
      " 1   bbox_x1           8041 non-null   object\n",
      " 2   bbox_y1           8041 non-null   object\n",
      " 3   bbox_x2           8041 non-null   object\n",
      " 4   bbox_y2           8041 non-null   object\n",
      " 5   class_id          8041 non-null   object\n",
      " 6   test              8041 non-null   object\n",
      "dtypes: object(7)\n",
      "memory usage: 502.6+ KB\n"
     ]
    }
   ],
   "source": [
    "test_annotations = annotations.drop(annotations[annotations['test'] == 0].index)\n",
    "test_annotations.info()"
   ]
  }
 ],
 "metadata": {
  "kernelspec": {
   "display_name": "deeplearning",
   "language": "python",
   "name": "python3"
  },
  "language_info": {
   "codemirror_mode": {
    "name": "ipython",
    "version": 3
   },
   "file_extension": ".py",
   "mimetype": "text/x-python",
   "name": "python",
   "nbconvert_exporter": "python",
   "pygments_lexer": "ipython3",
   "version": "3.8.18"
  }
 },
 "nbformat": 4,
 "nbformat_minor": 2
}
